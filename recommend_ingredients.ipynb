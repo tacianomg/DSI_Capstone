{
 "cells": [
  {
   "cell_type": "code",
   "execution_count": 1,
   "metadata": {},
   "outputs": [],
   "source": [
    "import pandas as pd\n",
    "import matplotlib.pyplot as plt\n",
    "import numpy as np\n",
    "from sklearn.feature_extraction.text import TfidfVectorizer, CountVectorizer\n",
    "from sklearn.metrics.pairwise import linear_kernel\n",
    "from sklearn.metrics.pairwise import cosine_similarity\n",
    "\n",
    "import dill\n",
    "\n",
    "pd.options.display.max_colwidth = None"
   ]
  },
  {
   "cell_type": "code",
   "execution_count": 2,
   "metadata": {},
   "outputs": [],
   "source": [
    "# recipes\n",
    "recipes = pd.read_csv('Data/recipes_50k.csv')\n",
    "recipes.drop(columns = 'Unnamed: 0', inplace = True)"
   ]
  },
  {
   "cell_type": "code",
   "execution_count": 3,
   "metadata": {},
   "outputs": [
    {
     "data": {
      "text/plain": [
       "Unnamed: 0.1      0\n",
       "Unnamed: 0.1.1    0\n",
       "name              0\n",
       "id                0\n",
       "minutes           0\n",
       "tags              0\n",
       "n_steps           0\n",
       "steps             0\n",
       "description       0\n",
       "ingredients       0\n",
       "n_ingredients     0\n",
       "calories          0\n",
       "tot_fat           0\n",
       "sugar             0\n",
       "sodium            0\n",
       "protein           0\n",
       "sat_fat           0\n",
       "dtype: int64"
      ]
     },
     "execution_count": 3,
     "metadata": {},
     "output_type": "execute_result"
    }
   ],
   "source": [
    "recipes.isna().sum()"
   ]
  },
  {
   "cell_type": "code",
   "execution_count": 4,
   "metadata": {},
   "outputs": [],
   "source": [
    "# pull out ingredients to vectorize\n",
    "ingredients = recipes[['ingredients', 'name', 'minutes']].copy()\n",
    "\n",
    "# drop null values\n",
    "# recipes.dropna(inplace = True)\n",
    "\n",
    "cvec = CountVectorizer()\n",
    "\n",
    "ing_matrix = cvec.fit_transform(ingredients['ingredients'][:20_000])"
   ]
  },
  {
   "cell_type": "code",
   "execution_count": 5,
   "metadata": {},
   "outputs": [],
   "source": [
    "cosine_sim_ing_3 = cosine_similarity(ing_matrix, ing_matrix)"
   ]
  },
  {
   "cell_type": "code",
   "execution_count": 6,
   "metadata": {},
   "outputs": [],
   "source": [
    "cosine_sim_ing = cosine_sim_ing_3"
   ]
  },
  {
   "cell_type": "markdown",
   "metadata": {},
   "source": [
    "Code mocked up just in case I need to use it later\n",
    "\n",
    "cosine_sim_ing = cosine_similarity(ing_matrix[:20_000], ing_matrix[:20_000])\n",
    "cosine_sim_ing_2 = cosine_similarity(ing_matrix[20_000:40_000], ing_matrix[20_000:40_000])\n",
    "cosine_sim_ing_3 = cosine_similarity(ing_matrix[40_000:60_000], ing_matrix[40_000:60_000])"
   ]
  },
  {
   "cell_type": "code",
   "execution_count": 7,
   "metadata": {},
   "outputs": [],
   "source": [
    "new_desc = pd.Series(recipes.index[:20_001], index = recipes['name'][:20_001])"
   ]
  },
  {
   "cell_type": "code",
   "execution_count": 8,
   "metadata": {},
   "outputs": [],
   "source": [
    "def get_rec_ing(title, cosine_sim):\n",
    "    \n",
    "    idx = new_desc[title]\n",
    "    \n",
    "    sim_scores = sorted(list(enumerate(cosine_sim[idx])), key = lambda x: x[1], reverse = True)\n",
    "    \n",
    "    sim_scores = sim_scores[1]\n",
    "    \n",
    "    x = pd.DataFrame(recipes.iloc[sim_scores[0]]).T\n",
    "\n",
    "    return x[['name', 'minutes', 'description', 'ingredients', 'steps']].T"
   ]
  },
  {
   "cell_type": "code",
   "execution_count": 9,
   "metadata": {},
   "outputs": [
    {
     "data": {
      "text/html": [
       "<div>\n",
       "<style scoped>\n",
       "    .dataframe tbody tr th:only-of-type {\n",
       "        vertical-align: middle;\n",
       "    }\n",
       "\n",
       "    .dataframe tbody tr th {\n",
       "        vertical-align: top;\n",
       "    }\n",
       "\n",
       "    .dataframe thead th {\n",
       "        text-align: right;\n",
       "    }\n",
       "</style>\n",
       "<table border=\"1\" class=\"dataframe\">\n",
       "  <thead>\n",
       "    <tr style=\"text-align: right;\">\n",
       "      <th></th>\n",
       "      <th>12977</th>\n",
       "    </tr>\n",
       "  </thead>\n",
       "  <tbody>\n",
       "    <tr>\n",
       "      <th>name</th>\n",
       "      <td>baked beans with bacon and hot dogs</td>\n",
       "    </tr>\n",
       "    <tr>\n",
       "      <th>minutes</th>\n",
       "      <td>120</td>\n",
       "    </tr>\n",
       "    <tr>\n",
       "      <th>description</th>\n",
       "      <td>you may reduce or increase the amount of hot dogs if desired, i also like to add in some cayenne pepper, 3/4 cup of brown sugar will produce a sweet taste you may if you prefer a less sweeter taste then use 1/2 cup or adjust the amount to taste.</td>\n",
       "    </tr>\n",
       "    <tr>\n",
       "      <th>ingredients</th>\n",
       "      <td>['bacon', 'onion', 'garlic', 'baked beans', 'molasses', 'prepared yellow mustard', 'mustard powder', 'seasoning salt', 'diced tomato', 'brown sugar', 'hot dogs']</td>\n",
       "    </tr>\n",
       "    <tr>\n",
       "      <th>steps</th>\n",
       "      <td>['set oven to 350 degrees f', 'grease a 2-quart casserole dish', 'in a large bowl', 'in a skillet cook the bacon with onions until evenly browned', 'add in garlic and cook stirring for 2 minutes', 'drain and place into a large bowl', 'add in the 2 cans baked beans , molasses , prepared yellow mustard , dry mustard powder , seasoned salt , tomatoes and brown sugar mix well to combine', 'mix in the hot dogs', 'transfer to prepared casserole dish', 'bake uncovered for 1 hour and 15 minutes or until thickened and bubbly']</td>\n",
       "    </tr>\n",
       "  </tbody>\n",
       "</table>\n",
       "</div>"
      ],
      "text/plain": [
       "                                                                                                                                                                                                                                                                                                                                                                                                                                                                                                                                                   12977\n",
       "name                                                                                                                                                                                                                                                                                                                                                                                                                                                                                                                 baked beans with bacon and hot dogs\n",
       "minutes                                                                                                                                                                                                                                                                                                                                                                                                                                                                                                                                              120\n",
       "description                                                                                                                                                                                                                                                                                        you may reduce or increase the amount of hot dogs if desired, i also like to add in some cayenne pepper, 3/4 cup of brown sugar will produce a sweet taste you may if you prefer a less sweeter taste then use 1/2 cup or adjust the amount to taste.\n",
       "ingredients                                                                                                                                                                                                                                                                                                                                                                            ['bacon', 'onion', 'garlic', 'baked beans', 'molasses', 'prepared yellow mustard', 'mustard powder', 'seasoning salt', 'diced tomato', 'brown sugar', 'hot dogs']\n",
       "steps        ['set oven to 350 degrees f', 'grease a 2-quart casserole dish', 'in a large bowl', 'in a skillet cook the bacon with onions until evenly browned', 'add in garlic and cook stirring for 2 minutes', 'drain and place into a large bowl', 'add in the 2 cans baked beans , molasses , prepared yellow mustard , dry mustard powder , seasoned salt , tomatoes and brown sugar mix well to combine', 'mix in the hot dogs', 'transfer to prepared casserole dish', 'bake uncovered for 1 hour and 15 minutes or until thickened and bubbly']"
      ]
     },
     "execution_count": 9,
     "metadata": {},
     "output_type": "execute_result"
    }
   ],
   "source": [
    "get_rec_ing('bean and sauerkraut casserole' , cosine_sim_ing)"
   ]
  },
  {
   "cell_type": "code",
   "execution_count": 11,
   "metadata": {},
   "outputs": [],
   "source": [
    "df = pd.DataFrame(\n",
    "                ing_matrix.todense(),\n",
    "                columns = cvec.get_feature_names())"
   ]
  },
  {
   "cell_type": "code",
   "execution_count": 18,
   "metadata": {},
   "outputs": [
    {
     "data": {
      "text/plain": [
       "<AxesSubplot:title={'center':'Most Common Words in Ingredients'}>"
      ]
     },
     "execution_count": 18,
     "metadata": {},
     "output_type": "execute_result"
    },
    {
     "data": {
      "image/png": "[encoded data removed]",
      "text/plain": [
       "<Figure size 720x432 with 1 Axes>"
      ]
     },
     "metadata": {
      "needs_background": "light"
     },
     "output_type": "display_data"
    }
   ],
   "source": [
    "plt.figure(figsize=(10,6))\n",
    "plt.title('Most Common Words in Ingredients')\n",
    "df.sum().sort_values(ascending = False).head(15).plot(kind = 'barh')"
   ]
  },
  {
   "cell_type": "code",
   "execution_count": 19,
   "metadata": {},
   "outputs": [
    {
     "data": {
      "text/plain": [
       "<AxesSubplot:title={'center':'Least Common Words in Ingredients'}>"
      ]
     },
     "execution_count": 19,
     "metadata": {},
     "output_type": "execute_result"
    },
    {
     "data": {
      "image/png": "[encoded data removed]",
      "text/plain": [
       "<Figure size 720x432 with 1 Axes>"
      ]
     },
     "metadata": {
      "needs_background": "light"
     },
     "output_type": "display_data"
    }
   ],
   "source": [
    "plt.figure(figsize=(10,6))\n",
    "plt.title('Least Common Words in Ingredients')\n",
    "df.sum().sort_values(ascending = False).tail(15).plot(kind = 'barh')"
   ]
  },
  {
   "cell_type": "code",
   "execution_count": null,
   "metadata": {},
   "outputs": [],
   "source": [
    "get_rec_ing('a healthy apple and celery soup' , cosine_sim_ing)"
   ]
  },
  {
   "cell_type": "code",
   "execution_count": 21,
   "metadata": {},
   "outputs": [
    {
     "data": {
      "text/html": [
       "<div>\n",
       "<style scoped>\n",
       "    .dataframe tbody tr th:only-of-type {\n",
       "        vertical-align: middle;\n",
       "    }\n",
       "\n",
       "    .dataframe tbody tr th {\n",
       "        vertical-align: top;\n",
       "    }\n",
       "\n",
       "    .dataframe thead th {\n",
       "        text-align: right;\n",
       "    }\n",
       "</style>\n",
       "<table border=\"1\" class=\"dataframe\">\n",
       "  <thead>\n",
       "    <tr style=\"text-align: right;\">\n",
       "      <th></th>\n",
       "      <th>18129</th>\n",
       "    </tr>\n",
       "  </thead>\n",
       "  <tbody>\n",
       "    <tr>\n",
       "      <th>name</th>\n",
       "      <td>basque style potatoes</td>\n",
       "    </tr>\n",
       "    <tr>\n",
       "      <th>minutes</th>\n",
       "      <td>25</td>\n",
       "    </tr>\n",
       "    <tr>\n",
       "      <th>description</th>\n",
       "      <td>pimento peppers and garlic make for a great potato side dish from the french-spanish border.thanks to nick of emazing for sharing this great recipe !</td>\n",
       "    </tr>\n",
       "    <tr>\n",
       "      <th>ingredients</th>\n",
       "      <td>['olive oil', 'onion', 'garlic', 'parsley', 'pimiento', 'salt and pepper', 'potatoes', 'chicken broth']</td>\n",
       "    </tr>\n",
       "    <tr>\n",
       "      <th>steps</th>\n",
       "      <td>['heat the oil in a heavy skillet', 'add the onion and garlic', 'cook until soft', 'add the remaining ingredients and stir', 'cover and simmer for 20 minutes or until the potatoes are soft']</td>\n",
       "    </tr>\n",
       "  </tbody>\n",
       "</table>\n",
       "</div>"
      ],
      "text/plain": [
       "                                                                                                                                                                                                      18129\n",
       "name                                                                                                                                                                                  basque style potatoes\n",
       "minutes                                                                                                                                                                                                  25\n",
       "description                                           pimento peppers and garlic make for a great potato side dish from the french-spanish border.thanks to nick of emazing for sharing this great recipe !\n",
       "ingredients                                                                                         ['olive oil', 'onion', 'garlic', 'parsley', 'pimiento', 'salt and pepper', 'potatoes', 'chicken broth']\n",
       "steps        ['heat the oil in a heavy skillet', 'add the onion and garlic', 'cook until soft', 'add the remaining ingredients and stir', 'cover and simmer for 20 minutes or until the potatoes are soft']"
      ]
     },
     "execution_count": 21,
     "metadata": {},
     "output_type": "execute_result"
    }
   ],
   "source": [
    "get_rec_ing('bacon soup with veggies' , cosine_sim_ing)"
   ]
  },
  {
   "cell_type": "code",
   "execution_count": null,
   "metadata": {},
   "outputs": [],
   "source": []
  }
 ],
 "metadata": {
  "kernelspec": {
   "display_name": "Python 3",
   "language": "python",
   "name": "python3"
  },
  "language_info": {
   "codemirror_mode": {
    "name": "ipython",
    "version": 3
   },
   "file_extension": ".py",
   "mimetype": "text/x-python",
   "name": "python",
   "nbconvert_exporter": "python",
   "pygments_lexer": "ipython3",
   "version": "3.8.5"
  }
 },
 "nbformat": 4,
 "nbformat_minor": 4
}
