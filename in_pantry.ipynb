{
 "cells": [
  {
   "cell_type": "code",
   "execution_count": 2,
   "metadata": {},
   "outputs": [],
   "source": [
    "import pandas as pd\n",
    "import matplotlib.pyplot as plt\n",
    "import numpy as np\n",
    "from sklearn.feature_extraction.text import TfidfVectorizer, CountVectorizer\n",
    "from sklearn.metrics.pairwise import linear_kernel\n",
    "from sklearn.metrics.pairwise import cosine_similarity\n",
    "\n",
    "import dill\n",
    "\n",
    "pd.options.display.max_colwidth = None"
   ]
  },
  {
   "cell_type": "code",
   "execution_count": 4,
   "metadata": {},
   "outputs": [],
   "source": [
    "# recipes\n",
    "recipes = pd.read_csv('Data/recipes_50k.csv')\n",
    "# recipes.drop(columns = 'Unnamed: 0', inplace = True)\n",
    "# nutrition = pd.read_csv('Data/nutrition_clean.csv')\n",
    "# nutrition.drop(columns = 'Unnamed: 0', inplace = True)\n",
    "recipes = recipes[:20_000]\n",
    "# recipes = pd.concat([recipes, nutrition], axis = 1)\n",
    "\n",
    "# recipes.dropna(inplace = True)\n",
    "# # remove the obscenely long recipes\n",
    "# recipes = recipes[recipes['minutes'] <= 540]\n",
    "\n",
    "# # correct dataframe so that everything will work\n",
    "# recipes.reset_index(drop = True, inplace = True)\n",
    "\n",
    "\n",
    "\n",
    "# recipes = recipes[:50_000]\n",
    "# # nutrition = pd.read_csv('Data/nutrition_clean.csv')\n",
    "# # nutrition.drop(columns = 'Unnamed: 0', inplace = True)"
   ]
  },
  {
   "cell_type": "code",
   "execution_count": 5,
   "metadata": {},
   "outputs": [],
   "source": [
    "recipes.to_csv('Data/recipes_50k.csv')"
   ]
  },
  {
   "cell_type": "code",
   "execution_count": 34,
   "metadata": {},
   "outputs": [
    {
     "name": "stdout",
     "output_type": "stream",
     "text": [
      "<class 'pandas.core.frame.DataFrame'>\n",
      "RangeIndex: 30000 entries, 0 to 29999\n",
      "Data columns (total 16 columns):\n",
      " #   Column         Non-Null Count  Dtype  \n",
      "---  ------         --------------  -----  \n",
      " 0   Unnamed: 0     30000 non-null  int64  \n",
      " 1   name           30000 non-null  object \n",
      " 2   id             30000 non-null  int64  \n",
      " 3   minutes        30000 non-null  int64  \n",
      " 4   tags           30000 non-null  object \n",
      " 5   n_steps        30000 non-null  int64  \n",
      " 6   steps          30000 non-null  object \n",
      " 7   description    30000 non-null  object \n",
      " 8   ingredients    30000 non-null  object \n",
      " 9   n_ingredients  30000 non-null  int64  \n",
      " 10  calories       30000 non-null  float64\n",
      " 11  tot_fat        30000 non-null  float64\n",
      " 12  sugar          30000 non-null  float64\n",
      " 13  sodium         30000 non-null  float64\n",
      " 14  protein        30000 non-null  float64\n",
      " 15  sat_fat        30000 non-null  float64\n",
      "dtypes: float64(6), int64(5), object(5)\n",
      "memory usage: 3.7+ MB\n"
     ]
    }
   ],
   "source": [
    "recipes.info()"
   ]
  },
  {
   "cell_type": "code",
   "execution_count": 15,
   "metadata": {},
   "outputs": [],
   "source": [
    "# recipes.to_csv('Data/recipes_50k.csv')"
   ]
  },
  {
   "cell_type": "code",
   "execution_count": 16,
   "metadata": {},
   "outputs": [],
   "source": [
    "# create series witht the recipe names as the index\n",
    "new_desc = pd.Series(recipes.index[:20_001], index = recipes['name'][:20_001])"
   ]
  },
  {
   "cell_type": "code",
   "execution_count": 17,
   "metadata": {},
   "outputs": [],
   "source": [
    "# pull out ingredients to vectorize\n",
    "ingredients = recipes[['ingredients', 'name', 'minutes']].copy()\n",
    "descriptions = recipes[['description', 'name']].copy()\n",
    "\n",
    "\n",
    "# drop null values\n",
    "# recipes.dropna(inplace = True)"
   ]
  },
  {
   "cell_type": "code",
   "execution_count": 18,
   "metadata": {},
   "outputs": [],
   "source": [
    "def list_similarity(new_list = None, test = None):\n",
    "    # set count\n",
    "    count = 0\n",
    "    \n",
    "    test_list = test.split()\n",
    "    \n",
    "    # check if ingredient is in the string and if it is, add to the count\n",
    "    for x in new_list:\n",
    "        if x in test:\n",
    "            count+= 1\n",
    "            \n",
    "    # percent of ingredients that are identical between the two recipes\n",
    "    return count / len(test), count"
   ]
  },
  {
   "cell_type": "code",
   "execution_count": 19,
   "metadata": {},
   "outputs": [],
   "source": [
    "def in_pantry(on_hand = None, min_score = 0, min_ing = 0):\n",
    "    # empty list for output\n",
    "    recipe_list = []\n",
    "    \n",
    "    # recipe database\n",
    "    ing_list = [ingredients.iloc[x] for x in range(20_001)]\n",
    "    \n",
    "    # iterate through list\n",
    "    for x in range(len(ing_list)):\n",
    "        \n",
    "        # get score and count\n",
    "        sim_score, count = list_similarity(on_hand, ing_list[x][0])\n",
    "        if  sim_score >= min_score and count >= min_ing:\n",
    "            recipe_list.append(ing_list[x][1])\n",
    "    \n",
    "    index_list = [new_desc[x] for x in recipe_list]\n",
    "    # output\n",
    "    x = pd.DataFrame(recipes.iloc[new_desc[recipe_list[0]]]).T\n",
    "    \n",
    "    # create a DataFrame\n",
    "    for num in index_list:\n",
    "        y = pd.DataFrame(recipes.iloc[new_desc[num]]).T\n",
    "        x = x.append(y)\n",
    "    \n",
    "    return x[['name','description','ingredients', 'steps', 'minutes', 'calories', 'tot_fat', 'protein']].sample().T"
   ]
  },
  {
   "cell_type": "code",
   "execution_count": 30,
   "metadata": {},
   "outputs": [
    {
     "data": {
      "text/html": [
       "<div>\n",
       "<style scoped>\n",
       "    .dataframe tbody tr th:only-of-type {\n",
       "        vertical-align: middle;\n",
       "    }\n",
       "\n",
       "    .dataframe tbody tr th {\n",
       "        vertical-align: top;\n",
       "    }\n",
       "\n",
       "    .dataframe thead th {\n",
       "        text-align: right;\n",
       "    }\n",
       "</style>\n",
       "<table border=\"1\" class=\"dataframe\">\n",
       "  <thead>\n",
       "    <tr style=\"text-align: right;\">\n",
       "      <th></th>\n",
       "      <th>12136</th>\n",
       "    </tr>\n",
       "  </thead>\n",
       "  <tbody>\n",
       "    <tr>\n",
       "      <th>name</th>\n",
       "      <td>bacon soup with veggies</td>\n",
       "    </tr>\n",
       "    <tr>\n",
       "      <th>description</th>\n",
       "      <td>dinner is ready for 15 mins,so easy...perfect on this cold weather</td>\n",
       "    </tr>\n",
       "    <tr>\n",
       "      <th>ingredients</th>\n",
       "      <td>['cooked bacon', 'garlic', 'onion', 'italian seasoning', 'cut green beans', 'star-shaped pasta', 'dried parsley', 'kosher salt', 'olive oil', 'carrot', 'potatoes', 'chicken broth']</td>\n",
       "    </tr>\n",
       "    <tr>\n",
       "      <th>steps</th>\n",
       "      <td>['1', 'chop or scramble the bacon into small pieces , set aside', '2', 'heat the olive oil in skillet , add garlic and wait until its golden brown', '3', 'add the chopped onion and bacon , stir', '4', 'season with italian seasoning , add potatoes , parsley , and broth', 'lets boil then add the small pasta or pastina', '5', 'simmer for 10 mins then add the carrot and beans , season with salt and serve with garlic bread / toasted bread or baguet , italian bread']</td>\n",
       "    </tr>\n",
       "    <tr>\n",
       "      <th>minutes</th>\n",
       "      <td>16</td>\n",
       "    </tr>\n",
       "    <tr>\n",
       "      <th>calories</th>\n",
       "      <td>221.9</td>\n",
       "    </tr>\n",
       "    <tr>\n",
       "      <th>tot_fat</th>\n",
       "      <td>15</td>\n",
       "    </tr>\n",
       "    <tr>\n",
       "      <th>protein</th>\n",
       "      <td>14</td>\n",
       "    </tr>\n",
       "  </tbody>\n",
       "</table>\n",
       "</div>"
      ],
      "text/plain": [
       "                                                                                                                                                                                                                                                                                                                                                                                                                                                                                         12136\n",
       "name                                                                                                                                                                                                                                                                                                                                                                                                                                                                   bacon soup with veggies\n",
       "description                                                                                                                                                                                                                                                                                                                                                                                                                 dinner is ready for 15 mins,so easy...perfect on this cold weather\n",
       "ingredients                                                                                                                                                                                                                                                                                               ['cooked bacon', 'garlic', 'onion', 'italian seasoning', 'cut green beans', 'star-shaped pasta', 'dried parsley', 'kosher salt', 'olive oil', 'carrot', 'potatoes', 'chicken broth']\n",
       "steps        ['1', 'chop or scramble the bacon into small pieces , set aside', '2', 'heat the olive oil in skillet , add garlic and wait until its golden brown', '3', 'add the chopped onion and bacon , stir', '4', 'season with italian seasoning , add potatoes , parsley , and broth', 'lets boil then add the small pasta or pastina', '5', 'simmer for 10 mins then add the carrot and beans , season with salt and serve with garlic bread / toasted bread or baguet , italian bread']\n",
       "minutes                                                                                                                                                                                                                                                                                                                                                                                                                                                                                     16\n",
       "calories                                                                                                                                                                                                                                                                                                                                                                                                                                                                                 221.9\n",
       "tot_fat                                                                                                                                                                                                                                                                                                                                                                                                                                                                                     15\n",
       "protein                                                                                                                                                                                                                                                                                                                                                                                                                                                                                     14"
      ]
     },
     "execution_count": 30,
     "metadata": {},
     "output_type": "execute_result"
    }
   ],
   "source": [
    "in_pantry(on_hand = ['pasta', 'vegetable stock', 'chicken', 'quinoa'], min_ing = 2)"
   ]
  },
  {
   "cell_type": "code",
   "execution_count": null,
   "metadata": {},
   "outputs": [],
   "source": []
  },
  {
   "cell_type": "code",
   "execution_count": null,
   "metadata": {},
   "outputs": [],
   "source": []
  },
  {
   "cell_type": "code",
   "execution_count": null,
   "metadata": {},
   "outputs": [],
   "source": []
  },
  {
   "cell_type": "code",
   "execution_count": null,
   "metadata": {},
   "outputs": [],
   "source": []
  },
  {
   "cell_type": "code",
   "execution_count": null,
   "metadata": {},
   "outputs": [],
   "source": []
  },
  {
   "cell_type": "code",
   "execution_count": null,
   "metadata": {},
   "outputs": [],
   "source": []
  }
 ],
 "metadata": {
  "kernelspec": {
   "display_name": "Python 3",
   "language": "python",
   "name": "python3"
  },
  "language_info": {
   "codemirror_mode": {
    "name": "ipython",
    "version": 3
   },
   "file_extension": ".py",
   "mimetype": "text/x-python",
   "name": "python",
   "nbconvert_exporter": "python",
   "pygments_lexer": "ipython3",
   "version": "3.8.5"
  }
 },
 "nbformat": 4,
 "nbformat_minor": 4
}
